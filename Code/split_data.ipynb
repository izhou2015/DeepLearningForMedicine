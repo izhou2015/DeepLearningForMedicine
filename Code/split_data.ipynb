{
  "nbformat": 4,
  "nbformat_minor": 0,
  "metadata": {
    "kernelspec": {
      "display_name": "Python 3",
      "language": "python",
      "name": "python3"
    },
    "language_info": {
      "codemirror_mode": {
        "name": "ipython",
        "version": 3
      },
      "file_extension": ".py",
      "mimetype": "text/x-python",
      "name": "python",
      "nbconvert_exporter": "python",
      "pygments_lexer": "ipython3",
      "version": "3.7.6"
    },
    "colab": {
      "name": "split_data.ipynb",
      "provenance": [],
      "collapsed_sections": []
    }
  },
  "cells": [
    {
      "cell_type": "code",
      "metadata": {
        "id": "kmhmDhd4Wz6u",
        "colab_type": "code",
        "colab": {}
      },
      "source": [
        "import os\n",
        "#read_path = 'D:/NYU-1/DL/data/chest_xray'\n",
        "test_normal = 'D:/NYU-1/DL/project/chest_xray/test/NORMAL'\n",
        "test_pneumonia = 'D:/NYU-1/DL/project/chest_xray/test/PNEUMONIA'\n",
        "\n"
      ],
      "execution_count": 0,
      "outputs": []
    },
    {
      "cell_type": "markdown",
      "metadata": {
        "id": "Wj0qL4nCeo9j",
        "colab_type": "text"
      },
      "source": [
        "# 2 classes: normal, pneumonia"
      ]
    },
    {
      "cell_type": "markdown",
      "metadata": {
        "id": "ujLauW6wWz62",
        "colab_type": "text"
      },
      "source": [
        "### test_normal to test_normal and val_normal"
      ]
    },
    {
      "cell_type": "code",
      "metadata": {
        "id": "Rbkp96HXWz63",
        "colab_type": "code",
        "colab": {}
      },
      "source": [
        "os.chdir(test_normal) #Change path \n",
        "normal_name_list2 = os.listdir() #Get file name \n",
        "#csv_missing=[]"
      ],
      "execution_count": 0,
      "outputs": []
    },
    {
      "cell_type": "code",
      "metadata": {
        "id": "jJW-ko7nWz69",
        "colab_type": "code",
        "outputId": "38780bfc-0b2e-412b-b8c6-5dceb5e0a07c",
        "colab": {}
      },
      "source": [
        "test_n = []\n",
        "for i in normal_name_list2:\n",
        "    if 'NORMAL2' in i:\n",
        "        i = i[8:]\n",
        "    patient = i[:7]\n",
        "    test_n.append(patient)\n",
        "test_normal_distinct = list(set(test_n))\n",
        "print('numer of images in test_normal:',len(test_n))\n",
        "print('number of patients in test_normal:',len(test_normal_distinct))   #patient number"
      ],
      "execution_count": 0,
      "outputs": [
        {
          "output_type": "stream",
          "text": [
            "numer of images in test_normal: 234\n",
            "number of patients in test_normal: 202\n"
          ],
          "name": "stdout"
        }
      ]
    },
    {
      "cell_type": "code",
      "metadata": {
        "id": "ndfepsz5Wz7H",
        "colab_type": "code",
        "outputId": "1b9397ab-6692-47b3-adaa-71a4786e5bf0",
        "colab": {}
      },
      "source": [
        "print(test_normal_distinct[:5])\n",
        "import random\n",
        "random.shuffle(test_normal_distinct)\n",
        "print(test_normal_distinct[:5])"
      ],
      "execution_count": 0,
      "outputs": [
        {
          "output_type": "stream",
          "text": [
            "['IM-0328', 'IM-0353', 'IM-0015', 'IM-0112', 'IM-0313']\n",
            "['IM-0091', 'IM-0081', 'IM-0075', 'IM-0325', 'IM-0123']\n"
          ],
          "name": "stdout"
        }
      ]
    },
    {
      "cell_type": "code",
      "metadata": {
        "id": "LJbl1ugYWz7R",
        "colab_type": "code",
        "colab": {}
      },
      "source": [
        "val_n_id = test_normal_distinct[:101]\n",
        "test_n_id = test_normal_distinct[101:]"
      ],
      "execution_count": 0,
      "outputs": []
    },
    {
      "cell_type": "code",
      "metadata": {
        "id": "IWofNY9hWz7a",
        "colab_type": "code",
        "outputId": "2a6b6075-178b-4e9c-bf4e-c8f40035e6fb",
        "colab": {}
      },
      "source": [
        "test_n_list = [] #image name\n",
        "\n",
        "for i in test_n_id:\n",
        "    for j in normal_name_list2:\n",
        "        if i in j:\n",
        "            test_n_list.append(j)\n",
        "    \n",
        "print('number of images in test(split)',len(test_n_list))"
      ],
      "execution_count": 0,
      "outputs": [
        {
          "output_type": "stream",
          "text": [
            "number of images in test(split) 114\n"
          ],
          "name": "stdout"
        }
      ]
    },
    {
      "cell_type": "code",
      "metadata": {
        "id": "n6Aa6SbWWz7g",
        "colab_type": "code",
        "outputId": "89458592-151c-4919-ee81-08db16bdfe7d",
        "colab": {}
      },
      "source": [
        "val_n_list = [] #image name\n",
        "\n",
        "for i in val_n_id:\n",
        "    for j in normal_name_list2:\n",
        "        if i in j:\n",
        "            val_n_list.append(j)\n",
        "            \n",
        "print('number of images in val(split)', len(val_n_list))"
      ],
      "execution_count": 0,
      "outputs": [
        {
          "output_type": "stream",
          "text": [
            "number of images in val(split) 120\n"
          ],
          "name": "stdout"
        }
      ]
    },
    {
      "cell_type": "markdown",
      "metadata": {
        "id": "j10ZEGhmWz7p",
        "colab_type": "text"
      },
      "source": [
        "### test_pneumonia to test_pneumonia and val_pneumonia"
      ]
    },
    {
      "cell_type": "code",
      "metadata": {
        "id": "0AClJ0OPWz7r",
        "colab_type": "code",
        "colab": {}
      },
      "source": [
        "os.chdir(test_pneumonia) #Change path \n",
        "normal_name_list4 = os.listdir() #Get file name \n",
        "#csv_missing=[]"
      ],
      "execution_count": 0,
      "outputs": []
    },
    {
      "cell_type": "code",
      "metadata": {
        "id": "c4nCXUYFWz7y",
        "colab_type": "code",
        "outputId": "3ed7dd43-a610-4ff4-96dd-ea27fa0b6298",
        "colab": {}
      },
      "source": [
        "test_p = []\n",
        "for i in normal_name_list4:\n",
        "    patient = i.split('_')[0]\n",
        "    test_p.append(patient)\n",
        "    #train_normal.append(patient)\n",
        "test_pneumonia_distinct = list(set(test_p))\n",
        "print('number of images in test_penumonia:',len(test_p))\n",
        "print('number of patients in test_pneumonia:',len(test_pneumonia_distinct))"
      ],
      "execution_count": 0,
      "outputs": [
        {
          "output_type": "stream",
          "text": [
            "number of images in test_penumonia: 390\n",
            "number of patients in test_pneumonia: 202\n"
          ],
          "name": "stdout"
        }
      ]
    },
    {
      "cell_type": "code",
      "metadata": {
        "id": "V2DONjmGWz75",
        "colab_type": "code",
        "outputId": "76b07e40-52e4-41d6-9999-b8594afcaf1e",
        "colab": {}
      },
      "source": [
        "print(test_pneumonia_distinct[:5])\n",
        "random.shuffle(test_pneumonia_distinct)\n",
        "print(test_pneumonia_distinct[:5])"
      ],
      "execution_count": 0,
      "outputs": [
        {
          "output_type": "stream",
          "text": [
            "['person41', 'person1616', 'person101', 'person173', 'person94']\n",
            "['person11', 'person1670', 'person1656', 'person41', 'person71']\n"
          ],
          "name": "stdout"
        }
      ]
    },
    {
      "cell_type": "code",
      "metadata": {
        "id": "43lFsnC6Wz8C",
        "colab_type": "code",
        "outputId": "6fdccfb8-f6ec-4207-cb01-5ac95b4eb570",
        "colab": {}
      },
      "source": [
        "for i in range(len(test_pneumonia_distinct)):\n",
        "    id_ = test_pneumonia_distinct[i]+'_'\n",
        "    test_pneumonia_distinct[i] = id_\n",
        "print(test_pneumonia_distinct[5])\n",
        "    \n",
        "    "
      ],
      "execution_count": 0,
      "outputs": [
        {
          "output_type": "stream",
          "text": [
            "person1637_\n"
          ],
          "name": "stdout"
        }
      ]
    },
    {
      "cell_type": "code",
      "metadata": {
        "id": "oYMMpNq-Wz8k",
        "colab_type": "code",
        "colab": {}
      },
      "source": [
        "test_p_id = test_pneumonia_distinct[:101] #50%\n",
        "val_p_id = test_pneumonia_distinct[101:] "
      ],
      "execution_count": 0,
      "outputs": []
    },
    {
      "cell_type": "code",
      "metadata": {
        "id": "7wjtkT10Wz8p",
        "colab_type": "code",
        "outputId": "fefa862b-612f-4b97-9021-f14329fc00c9",
        "colab": {}
      },
      "source": [
        "test_p_list = [] #image name\n",
        "\n",
        "for i in test_p_id:\n",
        "    for j in normal_name_list4:\n",
        "        if i in j:\n",
        "            test_p_list.append(j)\n",
        "            \n",
        "print('number of images in test(split)',len(test_p_list))"
      ],
      "execution_count": 0,
      "outputs": [
        {
          "output_type": "stream",
          "text": [
            "number of images in test(split) 196\n"
          ],
          "name": "stdout"
        }
      ]
    },
    {
      "cell_type": "code",
      "metadata": {
        "id": "_pfKUmk7Wz8t",
        "colab_type": "code",
        "outputId": "c870a01c-dbd6-481f-8e3d-52060bfc9ef8",
        "colab": {}
      },
      "source": [
        "val_p_list = [] #image name\n",
        "\n",
        "for i in val_p_id:\n",
        "    for j in normal_name_list4:\n",
        "        if i in j:\n",
        "            val_p_list.append(j)\n",
        "            \n",
        "print('number of images in val(split)',len(val_p_list))"
      ],
      "execution_count": 0,
      "outputs": [
        {
          "output_type": "stream",
          "text": [
            "number of images in val(split) 194\n"
          ],
          "name": "stdout"
        }
      ]
    },
    {
      "cell_type": "markdown",
      "metadata": {
        "id": "3iZz0Nl2Wz8y",
        "colab_type": "text"
      },
      "source": [
        "### train"
      ]
    },
    {
      "cell_type": "code",
      "metadata": {
        "id": "YdtnjUyfWz8z",
        "colab_type": "code",
        "colab": {}
      },
      "source": [
        "train_normal = 'D:/NYU-1/DL/project/chest_xray/train/NORMAL'\n",
        "train_pneumonia = 'D:/NYU-1/DL/project/chest_xray/train/PNEUMONIA'"
      ],
      "execution_count": 0,
      "outputs": []
    },
    {
      "cell_type": "code",
      "metadata": {
        "id": "egIPbdLCWz83",
        "colab_type": "code",
        "colab": {}
      },
      "source": [
        "os.chdir(train_normal) #Change path \n",
        "train_n_list = os.listdir() #Get file name \n",
        "#csv_missing=[]\n",
        "#print(len(train_n_split))"
      ],
      "execution_count": 0,
      "outputs": []
    },
    {
      "cell_type": "code",
      "metadata": {
        "id": "mFZXbPqaWz87",
        "colab_type": "code",
        "outputId": "55d75747-8eef-4e1e-a891-dd3511e29719",
        "colab": {}
      },
      "source": [
        "train_n = []\n",
        "for i in train_n_list:\n",
        "    if 'NORMAL2' in i:\n",
        "        i = i[8:]\n",
        "    patient = i[:7]\n",
        "    train_n.append(patient)\n",
        "train_normal_distinct = list(set(train_n))\n",
        "print('numer of images in train_normal:',len(train_n))\n",
        "print('number of patients in train_normal:',len(train_normal_distinct))   #patient number"
      ],
      "execution_count": 0,
      "outputs": [
        {
          "output_type": "stream",
          "text": [
            "numer of images in train_normal: 1349\n",
            "number of patients in train_normal: 1008\n"
          ],
          "name": "stdout"
        }
      ]
    },
    {
      "cell_type": "code",
      "metadata": {
        "id": "YoTPo1aUWz9A",
        "colab_type": "code",
        "colab": {}
      },
      "source": [
        "os.chdir(train_pneumonia) #Change path \n",
        "train_p_list = os.listdir() #Get file name \n",
        "#csv_missing=[]\n",
        "#print(len(train_p_split))"
      ],
      "execution_count": 0,
      "outputs": []
    },
    {
      "cell_type": "code",
      "metadata": {
        "id": "zSFp9vjcWz9F",
        "colab_type": "code",
        "outputId": "21267ffc-c57a-49c4-8e02-ce7d30f8580f",
        "colab": {}
      },
      "source": [
        "train_p = []\n",
        "for i in train_p_list:\n",
        "    patient = i.split('_')[0]\n",
        "    train_p.append(patient)\n",
        "train_pneumonia_distinct = list(set(train_p))\n",
        "print('number of images in train_penumonia:',len(train_p))\n",
        "print('number of patients in train_pneumonia:',len(train_pneumonia_distinct))"
      ],
      "execution_count": 0,
      "outputs": [
        {
          "output_type": "stream",
          "text": [
            "number of images in train_penumonia: 3886\n",
            "number of patients in train_pneumonia: 1645\n"
          ],
          "name": "stdout"
        }
      ]
    },
    {
      "cell_type": "markdown",
      "metadata": {
        "id": "PvKVCppxWz9J",
        "colab_type": "text"
      },
      "source": [
        "### new table: indicating train/val/test "
      ]
    },
    {
      "cell_type": "code",
      "metadata": {
        "id": "4WKpL_dRWz9L",
        "colab_type": "code",
        "outputId": "6d00c145-5959-4b89-9da7-b982f72872d9",
        "colab": {}
      },
      "source": [
        "import pandas as pd\n",
        "data1 = {'image_index':train_p_list,\n",
        "         'class':'pneumonia',\n",
        "         'label': 1}\n",
        "data2 = {'image_index':train_n_list,\n",
        "         'class':'normal',\n",
        "         'label': 0}\n",
        "df1 = pd.DataFrame(data1)\n",
        "df2 = pd.DataFrame(data2)\n",
        "df_train = pd.concat([df1, df2], axis = 0)\n",
        "print(df_train.shape)\n",
        "df_train = df_train.sample(frac = 1)\n",
        "df_train.head()\n"
      ],
      "execution_count": 0,
      "outputs": [
        {
          "output_type": "stream",
          "text": [
            "(5232, 3)\n"
          ],
          "name": "stdout"
        },
        {
          "output_type": "execute_result",
          "data": {
            "text/html": [
              "<div>\n",
              "<style scoped>\n",
              "    .dataframe tbody tr th:only-of-type {\n",
              "        vertical-align: middle;\n",
              "    }\n",
              "\n",
              "    .dataframe tbody tr th {\n",
              "        vertical-align: top;\n",
              "    }\n",
              "\n",
              "    .dataframe thead th {\n",
              "        text-align: right;\n",
              "    }\n",
              "</style>\n",
              "<table border=\"1\" class=\"dataframe\">\n",
              "  <thead>\n",
              "    <tr style=\"text-align: right;\">\n",
              "      <th></th>\n",
              "      <th>image_index</th>\n",
              "      <th>class</th>\n",
              "      <th>label</th>\n",
              "    </tr>\n",
              "  </thead>\n",
              "  <tbody>\n",
              "    <tr>\n",
              "      <th>329</th>\n",
              "      <td>IM-0517-0001-0001.jpeg</td>\n",
              "      <td>normal</td>\n",
              "      <td>0</td>\n",
              "    </tr>\n",
              "    <tr>\n",
              "      <th>1399</th>\n",
              "      <td>person1666_bacteria_4416.jpeg</td>\n",
              "      <td>pneumonia</td>\n",
              "      <td>1</td>\n",
              "    </tr>\n",
              "    <tr>\n",
              "      <th>1860</th>\n",
              "      <td>person292_bacteria_1378.jpeg</td>\n",
              "      <td>pneumonia</td>\n",
              "      <td>1</td>\n",
              "    </tr>\n",
              "    <tr>\n",
              "      <th>3752</th>\n",
              "      <td>person933_bacteria_2858.jpeg</td>\n",
              "      <td>pneumonia</td>\n",
              "      <td>1</td>\n",
              "    </tr>\n",
              "    <tr>\n",
              "      <th>3481</th>\n",
              "      <td>person764_bacteria_2668.jpeg</td>\n",
              "      <td>pneumonia</td>\n",
              "      <td>1</td>\n",
              "    </tr>\n",
              "  </tbody>\n",
              "</table>\n",
              "</div>"
            ],
            "text/plain": [
              "                        image_index      class  label\n",
              "329          IM-0517-0001-0001.jpeg     normal      0\n",
              "1399  person1666_bacteria_4416.jpeg  pneumonia      1\n",
              "1860   person292_bacteria_1378.jpeg  pneumonia      1\n",
              "3752   person933_bacteria_2858.jpeg  pneumonia      1\n",
              "3481   person764_bacteria_2668.jpeg  pneumonia      1"
            ]
          },
          "metadata": {
            "tags": []
          },
          "execution_count": 63
        }
      ]
    },
    {
      "cell_type": "code",
      "metadata": {
        "id": "iOSygbkNWz9R",
        "colab_type": "code",
        "outputId": "2d4129f6-77cb-4a57-ec38-254bcfca05af",
        "colab": {}
      },
      "source": [
        "import pandas as pd\n",
        "data3 = {'image_index':test_p_list,\n",
        "         'class':'pneumonia',\n",
        "         'label': 1}\n",
        "data4 = {'image_index':test_n_list,\n",
        "         'class':'normal',\n",
        "         'label': 0}\n",
        "df3 = pd.DataFrame(data3)\n",
        "df4 = pd.DataFrame(data4)\n",
        "df_test = pd.concat([df3, df4], axis = 0)\n",
        "df_test = df_test.sample(frac = 1)\n",
        "df_test.shape"
      ],
      "execution_count": 0,
      "outputs": [
        {
          "output_type": "execute_result",
          "data": {
            "text/plain": [
              "(310, 3)"
            ]
          },
          "metadata": {
            "tags": []
          },
          "execution_count": 52
        }
      ]
    },
    {
      "cell_type": "code",
      "metadata": {
        "id": "2iwBbNBwWz9T",
        "colab_type": "code",
        "outputId": "fb673298-ffe4-405a-fae1-00aab2d008c4",
        "colab": {}
      },
      "source": [
        "data5 = {'image_index':val_p_list,\n",
        "         'class':'pneumonia',\n",
        "         'label': 1}\n",
        "data6 = {'image_index':val_n_list,\n",
        "         'class':'normal',\n",
        "         'label': 0}\n",
        "df5 = pd.DataFrame(data5)\n",
        "df6 = pd.DataFrame(data6)\n",
        "df_val = pd.concat([df5, df6], axis = 0)\n",
        "df_val = df_val.sample(frac = 1)\n",
        "df_val.shape"
      ],
      "execution_count": 0,
      "outputs": [
        {
          "output_type": "execute_result",
          "data": {
            "text/plain": [
              "(314, 3)"
            ]
          },
          "metadata": {
            "tags": []
          },
          "execution_count": 53
        }
      ]
    },
    {
      "cell_type": "code",
      "metadata": {
        "id": "d0lGFXWKWz9W",
        "colab_type": "code",
        "colab": {}
      },
      "source": [
        "df_train.to_csv('train.csv', index = False)\n",
        "df_val.to_csv('val.csv', index = False)\n",
        "df_test.to_csv('test.csv', index = False)"
      ],
      "execution_count": 0,
      "outputs": []
    },
    {
      "cell_type": "markdown",
      "metadata": {
        "id": "j84N4ICyWz9Y",
        "colab_type": "text"
      },
      "source": [
        "**train:**\n",
        "normal: 1349 images, 1008 patients\n",
        "\n",
        "pneumonia: 3886 images, 1645 patients\n",
        "\n",
        "\n",
        "**test:**\n",
        "\n",
        "normal: 114 images, 101 patients\n",
        "\n",
        "pneumonia: 196 images, 101 patients\n",
        "\n",
        "\n",
        "**validation:**\n",
        "\n",
        "normal: 120 images, 101 patients\n",
        "\n",
        "pneumonia: 194 images, 101 patients\n",
        "\n",
        "**test/validation splitting based on patient id**"
      ]
    },
    {
      "cell_type": "markdown",
      "metadata": {
        "id": "Hm5BlmfAXA5y",
        "colab_type": "text"
      },
      "source": [
        "# 3 classes: normal, virus, bacteria"
      ]
    },
    {
      "cell_type": "code",
      "metadata": {
        "id": "ULMA7Y-vcs-j",
        "colab_type": "code",
        "colab": {}
      },
      "source": [
        "import pandas as pd\n",
        "def class_3(file_name):\n",
        "    df = pd.read_csv(file_name)\n",
        "\n",
        "    class_3 = []\n",
        "    label_3 = []\n",
        "    for i in range(len(df)):\n",
        "        if 'virus' in df['image_index'][i]:\n",
        "            class_ = 'virus'\n",
        "            label_ = 1\n",
        "        elif 'bacteria' in df['image_index'][i]:\n",
        "            class_ = 'bacteria'\n",
        "            label_ = 2\n",
        "        else:\n",
        "            class_ = 'normal'\n",
        "            label_ = 0\n",
        "        class_3.append(class_)\n",
        "        label_3.append(label_)\n",
        "\n",
        "    image_index = list(df['image_index'])\n",
        "    df_temp = {'image_index': image_index,\n",
        "                'class': class_3,\n",
        "                'label': label_3}\n",
        "    df_new  = pd.DataFrame(df_temp)\n",
        "\n",
        "    return df_new"
      ],
      "execution_count": 0,
      "outputs": []
    },
    {
      "cell_type": "code",
      "metadata": {
        "id": "lREo7Xhrdh5_",
        "colab_type": "code",
        "colab": {
          "base_uri": "https://localhost:8080/",
          "height": 374
        },
        "outputId": "195d1c48-75f3-45a5-8092-081666f1678a"
      },
      "source": [
        "train_new = class_3('train.csv')\n",
        "print(train_new.shape)\n",
        "print(train_new.head())\n",
        "\n",
        "val_new = class_3('val.csv')\n",
        "print(val_new.shape)\n",
        "print(val_new.head())\n",
        "\n",
        "test_new = class_3('test.csv')\n",
        "print(test_new.shape)\n",
        "print(test_new.head())"
      ],
      "execution_count": 59,
      "outputs": [
        {
          "output_type": "stream",
          "text": [
            "(5232, 3)\n",
            "                     image_index     class  label\n",
            "0         IM-0517-0001-0001.jpeg    normal      0\n",
            "1  person1666_bacteria_4416.jpeg  bacteria      2\n",
            "2   person292_bacteria_1378.jpeg  bacteria      2\n",
            "3   person933_bacteria_2858.jpeg  bacteria      2\n",
            "4   person764_bacteria_2668.jpeg  bacteria      2\n",
            "(314, 3)\n",
            "                   image_index     class  label\n",
            "0    NORMAL2-IM-0059-0001.jpeg    normal      0\n",
            "1  person134_bacteria_641.jpeg  bacteria      2\n",
            "2  person134_bacteria_643.jpeg  bacteria      2\n",
            "3   person99_bacteria_473.jpeg  bacteria      2\n",
            "4   person1625_virus_2817.jpeg     virus      1\n",
            "(310, 3)\n",
            "                      image_index     class  label\n",
            "0      person1651_virus_2855.jpeg     virus      1\n",
            "1     person100_bacteria_478.jpeg  bacteria      2\n",
            "2  NORMAL2-IM-0246-0001-0001.jpeg    normal      0\n",
            "3       NORMAL2-IM-0359-0001.jpeg    normal      0\n",
            "4       NORMAL2-IM-0219-0001.jpeg    normal      0\n"
          ],
          "name": "stdout"
        }
      ]
    },
    {
      "cell_type": "code",
      "metadata": {
        "id": "4dW9rO52d81d",
        "colab_type": "code",
        "colab": {}
      },
      "source": [
        "train_new.to_csv('train_3.csv')\n",
        "val_new.to_csv('val_3.csv')\n",
        "test_new.to_csv('test_3.csv')"
      ],
      "execution_count": 0,
      "outputs": []
    },
    {
      "cell_type": "code",
      "metadata": {
        "id": "O_vOcL2JeLf5",
        "colab_type": "code",
        "colab": {
          "base_uri": "https://localhost:8080/",
          "height": 272
        },
        "outputId": "26864f62-2308-4c22-bb2f-6bc61302398f"
      },
      "source": [
        "print('train:\\n',train_new['class'].value_counts())\n",
        "print('validation:\\n',val_new['class'].value_counts())\n",
        "print('test:\\n',test_new['class'].value_counts())"
      ],
      "execution_count": 64,
      "outputs": [
        {
          "output_type": "stream",
          "text": [
            "train:\n",
            " bacteria    2538\n",
            "normal      1349\n",
            "virus       1345\n",
            "Name: class, dtype: int64\n",
            "validation:\n",
            " normal      120\n",
            "bacteria    114\n",
            "virus        80\n",
            "Name: class, dtype: int64\n",
            "test:\n",
            " bacteria    128\n",
            "normal      114\n",
            "virus        68\n",
            "Name: class, dtype: int64\n"
          ],
          "name": "stdout"
        }
      ]
    }
  ]
}