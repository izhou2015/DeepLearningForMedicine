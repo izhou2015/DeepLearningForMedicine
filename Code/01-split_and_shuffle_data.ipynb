{
 "cells": [
  {
   "cell_type": "code",
   "execution_count": 74,
   "metadata": {},
   "outputs": [],
   "source": [
    "import os\n",
    "#read_path = 'D:/NYU-1/DL/data/chest_xray'\n",
    "test_normal = 'D:/NYU-1/DL/data/chest_xray/test/NORMAL'\n",
    "test_pneumonia = 'D:/NYU-1/DL/data/chest_xray/test/PNEUMONIA'\n",
    "train_normal = 'D:/NYU-1/DL/data/chest_xray/train/NORMAL'\n",
    "train_pneumonia = 'D:/NYU-1/DL/data/chest_xray/train/PNEUMONIA'\n"
   ]
  },
  {
   "cell_type": "markdown",
   "metadata": {},
   "source": [
    "### train_normal"
   ]
  },
  {
   "cell_type": "code",
   "execution_count": 75,
   "metadata": {},
   "outputs": [],
   "source": [
    "os.chdir(train_normal) #Change path \n",
    "normal_name_list1 = os.listdir() #Get file name \n",
    "#csv_missing=[]"
   ]
  },
  {
   "cell_type": "code",
   "execution_count": 76,
   "metadata": {},
   "outputs": [
    {
     "name": "stdout",
     "output_type": "stream",
     "text": [
      "1349\n",
      "1008\n"
     ]
    }
   ],
   "source": [
    "train_n = []\n",
    "for i in normal_name_list1:\n",
    "    if 'NORMAL2' in i:\n",
    "        i = i[8:]\n",
    "    patient = i[:7]\n",
    "    train_n.append(patient)\n",
    "train_normal_distinct = list(set(train_n))\n",
    "print(len(train_n))\n",
    "print(len(train_normal_distinct))"
   ]
  },
  {
   "cell_type": "markdown",
   "metadata": {},
   "source": [
    "### test_normal"
   ]
  },
  {
   "cell_type": "code",
   "execution_count": 78,
   "metadata": {},
   "outputs": [],
   "source": [
    "os.chdir(test_normal) #Change path \n",
    "normal_name_list2 = os.listdir() #Get file name \n",
    "#csv_missing=[]"
   ]
  },
  {
   "cell_type": "code",
   "execution_count": 79,
   "metadata": {},
   "outputs": [
    {
     "name": "stdout",
     "output_type": "stream",
     "text": [
      "234\n",
      "202\n"
     ]
    }
   ],
   "source": [
    "test_n = []\n",
    "for i in normal_name_list2:\n",
    "    if 'NORMAL2' in i:\n",
    "        i = i[8:]\n",
    "    patient = i[:7]\n",
    "    test_n.append(patient)\n",
    "test_normal_distinct = list(set(test_n))\n",
    "print(len(test_n))\n",
    "print(len(test_normal_distinct))"
   ]
  },
  {
   "cell_type": "code",
   "execution_count": 80,
   "metadata": {},
   "outputs": [
    {
     "name": "stdout",
     "output_type": "stream",
     "text": [
      "1116\n"
     ]
    }
   ],
   "source": [
    "#patient id in normal dataset, eg. IM-0001\n",
    "normal_all = list(set(train_normal_distinct+test_normal_distinct))\n",
    "print(len(normal_all))"
   ]
  },
  {
   "cell_type": "code",
   "execution_count": 81,
   "metadata": {},
   "outputs": [
    {
     "name": "stdout",
     "output_type": "stream",
     "text": [
      "94\n"
     ]
    }
   ],
   "source": [
    "#check\n",
    "count = 0\n",
    "for i in train_normal_distinct:\n",
    "    if i in test_normal_distinct:\n",
    "        count+=1\n",
    "print(count)\n",
    "\n",
    "#1008+202-94=1116"
   ]
  },
  {
   "cell_type": "code",
   "execution_count": 83,
   "metadata": {},
   "outputs": [],
   "source": [
    "\n",
    "for i in normal_name_list1:\n",
    "    if i in normal_name_list2:\n",
    "        print(i)"
   ]
  },
  {
   "cell_type": "markdown",
   "metadata": {},
   "source": [
    "### train_pneumonia"
   ]
  },
  {
   "cell_type": "code",
   "execution_count": null,
   "metadata": {},
   "outputs": [],
   "source": [
    "os.chdir(train_pneumonia) #Change path \n",
    "normal_name_list3 = os.listdir() #Get file name \n",
    "#csv_missing=[]"
   ]
  },
  {
   "cell_type": "code",
   "execution_count": 84,
   "metadata": {},
   "outputs": [
    {
     "name": "stdout",
     "output_type": "stream",
     "text": [
      "3883\n",
      "1642\n"
     ]
    }
   ],
   "source": [
    "train_p = []\n",
    "for i in normal_name_list3:\n",
    "    patient = i.split('_')[0]\n",
    "    train_p.append(patient)\n",
    "    #train_normal.append(patient)\n",
    "train_pneumonia_distinct = list(set(train_p))\n",
    "print(len(train_p))\n",
    "print(len(train_pneumonia_distinct))"
   ]
  },
  {
   "cell_type": "markdown",
   "metadata": {},
   "source": [
    "### test_pneumonia"
   ]
  },
  {
   "cell_type": "code",
   "execution_count": 85,
   "metadata": {},
   "outputs": [],
   "source": [
    "os.chdir(test_pneumonia) #Change path \n",
    "normal_name_list4 = os.listdir() #Get file name \n",
    "#csv_missing=[]"
   ]
  },
  {
   "cell_type": "code",
   "execution_count": 86,
   "metadata": {},
   "outputs": [
    {
     "name": "stdout",
     "output_type": "stream",
     "text": [
      "390\n",
      "202\n"
     ]
    }
   ],
   "source": [
    "test_p = []\n",
    "for i in normal_name_list4:\n",
    "    patient = i.split('_')[0]\n",
    "    test_p.append(patient)\n",
    "    #train_normal.append(patient)\n",
    "test_pneumonia_distinct = list(set(test_p))\n",
    "print(len(test_p))\n",
    "print(len(test_pneumonia_distinct))"
   ]
  },
  {
   "cell_type": "code",
   "execution_count": 87,
   "metadata": {},
   "outputs": [],
   "source": [
    "for i in normal_name_list3:\n",
    "    if i in normal_name_list4:\n",
    "        print(i)"
   ]
  },
  {
   "cell_type": "code",
   "execution_count": 146,
   "metadata": {},
   "outputs": [
    {
     "name": "stdout",
     "output_type": "stream",
     "text": [
      "1674\n"
     ]
    }
   ],
   "source": [
    "pneumonia_all = list(set(train_pneumonia_distinct+test_pneumonia_distinct))\n",
    "print(len(pneumonia_all))"
   ]
  },
  {
   "cell_type": "code",
   "execution_count": 93,
   "metadata": {},
   "outputs": [
    {
     "name": "stdout",
     "output_type": "stream",
     "text": [
      "170\n"
     ]
    }
   ],
   "source": [
    "# check\n",
    "count = 0\n",
    "for i in train_pneumonia_distinct:\n",
    "    if i in test_pneumonia_distinct:\n",
    "        count+=1\n",
    "print(count)\n",
    "\n",
    "#1642+202-170=1674"
   ]
  },
  {
   "cell_type": "markdown",
   "metadata": {},
   "source": [
    "### normal split"
   ]
  },
  {
   "cell_type": "code",
   "execution_count": 113,
   "metadata": {},
   "outputs": [
    {
     "name": "stdout",
     "output_type": "stream",
     "text": [
      "['IM-0948', 'IM-1046', 'IM-0898', 'IM-1039', 'IM-0732']\n"
     ]
    }
   ],
   "source": [
    "print(normal_all[:5])"
   ]
  },
  {
   "cell_type": "code",
   "execution_count": 114,
   "metadata": {},
   "outputs": [
    {
     "name": "stdout",
     "output_type": "stream",
     "text": [
      "['IM-0826', 'IM-0440', 'IM-0019', 'IM-0239', 'IM-0828']\n"
     ]
    }
   ],
   "source": [
    "# all normal image name\n",
    "normal_list = normal_name_list1 + normal_name_list2\n",
    "import random\n",
    "random.shuffle(normal_all)\n",
    "print(normal_all[:5])"
   ]
  },
  {
   "cell_type": "code",
   "execution_count": 115,
   "metadata": {},
   "outputs": [],
   "source": [
    "train_n_id = normal_all[:781] #70%\n",
    "test_n_id = normal_all[781:893] #10%\n",
    "val_n_id = normal_all[893:] #20%"
   ]
  },
  {
   "cell_type": "code",
   "execution_count": 126,
   "metadata": {},
   "outputs": [
    {
     "name": "stdout",
     "output_type": "stream",
     "text": [
      "1095\n"
     ]
    }
   ],
   "source": [
    "train_n_list = [] #image name\n",
    "\n",
    "for i in train_n_id:\n",
    "    for j in normal_list:\n",
    "        if i in j:\n",
    "            train_n_list.append(j)\n",
    "            \n",
    "print(len(train_n_list))"
   ]
  },
  {
   "cell_type": "code",
   "execution_count": 127,
   "metadata": {},
   "outputs": [
    {
     "name": "stdout",
     "output_type": "stream",
     "text": [
      "159\n"
     ]
    }
   ],
   "source": [
    "test_n_list = [] #image name\n",
    "\n",
    "for i in test_n_id:\n",
    "    for j in normal_list:\n",
    "        if i in j:\n",
    "            test_n_list.append(j)\n",
    "    \n",
    "print(len(test_n_list))"
   ]
  },
  {
   "cell_type": "code",
   "execution_count": 128,
   "metadata": {},
   "outputs": [
    {
     "name": "stdout",
     "output_type": "stream",
     "text": [
      "329\n"
     ]
    }
   ],
   "source": [
    "val_n_list = [] #image name\n",
    "\n",
    "for i in val_n_id:\n",
    "    for j in normal_list:\n",
    "        if i in j:\n",
    "            val_n_list.append(j)\n",
    "            \n",
    "print(len(val_n_list))"
   ]
  },
  {
   "cell_type": "code",
   "execution_count": null,
   "metadata": {},
   "outputs": [],
   "source": [
    "#1095+159+329 = 1583, equal to normal image numbers"
   ]
  },
  {
   "cell_type": "markdown",
   "metadata": {},
   "source": [
    "### pneumonia split"
   ]
  },
  {
   "cell_type": "code",
   "execution_count": 147,
   "metadata": {},
   "outputs": [
    {
     "name": "stdout",
     "output_type": "stream",
     "text": [
      "['person634', 'person1764', 'person1746', 'person632', 'person448']\n",
      "['person299', 'person1408', 'person1847', 'person802', 'person17']\n"
     ]
    }
   ],
   "source": [
    "print(pneumonia_all[:5])\n",
    "pneumonia_list = normal_name_list3 + normal_name_list4\n",
    "random.shuffle(pneumonia_all)\n",
    "print(pneumonia_all[:5])"
   ]
  },
  {
   "cell_type": "code",
   "execution_count": 149,
   "metadata": {},
   "outputs": [
    {
     "name": "stdout",
     "output_type": "stream",
     "text": [
      "person531_\n"
     ]
    }
   ],
   "source": [
    "for i in range(len(pneumonia_all)):\n",
    "    id_ = pneumonia_all[i]+'_'\n",
    "    pneumonia_all[i] = id_\n",
    "print(pneumonia_all[5])\n",
    "    \n",
    "    "
   ]
  },
  {
   "cell_type": "code",
   "execution_count": 150,
   "metadata": {},
   "outputs": [],
   "source": [
    "train_p_id = pneumonia_all[:1172] #70%\n",
    "test_p_id = pneumonia_all[1172:1339] #10%\n",
    "val_p_id = pneumonia_all[1339:] #20%"
   ]
  },
  {
   "cell_type": "code",
   "execution_count": 160,
   "metadata": {},
   "outputs": [
    {
     "name": "stdout",
     "output_type": "stream",
     "text": [
      "2949\n"
     ]
    }
   ],
   "source": [
    "train_p_list = [] #image name\n",
    "\n",
    "for i in train_p_id:\n",
    "    for j in pneumonia_list:\n",
    "        if i in j:\n",
    "            train_p_list.append(j)\n",
    "            \n",
    "print(len(train_p_list))"
   ]
  },
  {
   "cell_type": "code",
   "execution_count": 161,
   "metadata": {},
   "outputs": [
    {
     "name": "stdout",
     "output_type": "stream",
     "text": [
      "443\n"
     ]
    }
   ],
   "source": [
    "test_p_list = [] #image name\n",
    "\n",
    "for i in test_p_id:\n",
    "    for j in pneumonia_list:\n",
    "        if i in j:\n",
    "            test_p_list.append(j)\n",
    "            \n",
    "print(len(test_p_list))"
   ]
  },
  {
   "cell_type": "code",
   "execution_count": 162,
   "metadata": {},
   "outputs": [
    {
     "name": "stdout",
     "output_type": "stream",
     "text": [
      "881\n"
     ]
    }
   ],
   "source": [
    "val_p_list = [] #image name\n",
    "\n",
    "for i in val_p_id:\n",
    "    for j in pneumonia_list:\n",
    "        if i in j:\n",
    "            val_p_list.append(j)\n",
    "            \n",
    "print(len(val_p_list))"
   ]
  },
  {
   "cell_type": "markdown",
   "metadata": {},
   "source": [
    "### new table: indicating train/val/test "
   ]
  },
  {
   "cell_type": "code",
   "execution_count": 174,
   "metadata": {},
   "outputs": [
    {
     "name": "stdout",
     "output_type": "stream",
     "text": [
      "(4044, 3)\n"
     ]
    },
    {
     "data": {
      "text/html": [
       "<div>\n",
       "<style scoped>\n",
       "    .dataframe tbody tr th:only-of-type {\n",
       "        vertical-align: middle;\n",
       "    }\n",
       "\n",
       "    .dataframe tbody tr th {\n",
       "        vertical-align: top;\n",
       "    }\n",
       "\n",
       "    .dataframe thead th {\n",
       "        text-align: right;\n",
       "    }\n",
       "</style>\n",
       "<table border=\"1\" class=\"dataframe\">\n",
       "  <thead>\n",
       "    <tr style=\"text-align: right;\">\n",
       "      <th></th>\n",
       "      <th>image_index</th>\n",
       "      <th>class</th>\n",
       "      <th>label</th>\n",
       "    </tr>\n",
       "  </thead>\n",
       "  <tbody>\n",
       "    <tr>\n",
       "      <th>0</th>\n",
       "      <td>person299_bacteria_1414.jpeg</td>\n",
       "      <td>pneumonia</td>\n",
       "      <td>1</td>\n",
       "    </tr>\n",
       "    <tr>\n",
       "      <th>1</th>\n",
       "      <td>person299_bacteria_1416.jpeg</td>\n",
       "      <td>pneumonia</td>\n",
       "      <td>1</td>\n",
       "    </tr>\n",
       "    <tr>\n",
       "      <th>2</th>\n",
       "      <td>person299_bacteria_1417.jpeg</td>\n",
       "      <td>pneumonia</td>\n",
       "      <td>1</td>\n",
       "    </tr>\n",
       "    <tr>\n",
       "      <th>3</th>\n",
       "      <td>person299_bacteria_1418.jpeg</td>\n",
       "      <td>pneumonia</td>\n",
       "      <td>1</td>\n",
       "    </tr>\n",
       "    <tr>\n",
       "      <th>4</th>\n",
       "      <td>person299_bacteria_1419.jpeg</td>\n",
       "      <td>pneumonia</td>\n",
       "      <td>1</td>\n",
       "    </tr>\n",
       "  </tbody>\n",
       "</table>\n",
       "</div>"
      ],
      "text/plain": [
       "                    image_index      class  label\n",
       "0  person299_bacteria_1414.jpeg  pneumonia      1\n",
       "1  person299_bacteria_1416.jpeg  pneumonia      1\n",
       "2  person299_bacteria_1417.jpeg  pneumonia      1\n",
       "3  person299_bacteria_1418.jpeg  pneumonia      1\n",
       "4  person299_bacteria_1419.jpeg  pneumonia      1"
      ]
     },
     "execution_count": 174,
     "metadata": {},
     "output_type": "execute_result"
    }
   ],
   "source": [
    "import pandas as pd\n",
    "data1 = {'image_index':train_p_list,\n",
    "         'class':'pneumonia',\n",
    "         'label': 1}\n",
    "data2 = {'image_index':train_n_list,\n",
    "         'class':'normal',\n",
    "         'label': 0}\n",
    "df1 = pd.DataFrame(data1)\n",
    "df2 = pd.DataFrame(data2)\n",
    "df_train = pd.concat([df1, df2], axis = 0)\n",
    "print(df_train.shape)\n",
    "df_train = df_train.sample(frac = 1)\n",
    "df_train.head()\n"
   ]
  },
  {
   "cell_type": "code",
   "execution_count": 175,
   "metadata": {},
   "outputs": [
    {
     "data": {
      "text/plain": [
       "(602, 3)"
      ]
     },
     "execution_count": 175,
     "metadata": {},
     "output_type": "execute_result"
    }
   ],
   "source": [
    "data3 = {'image_index':test_p_list,\n",
    "         'class':'pneumonia',\n",
    "         'label': 1}\n",
    "data4 = {'image_index':test_n_list,\n",
    "         'class':'normal',\n",
    "         'label': 0}\n",
    "df3 = pd.DataFrame(data3)\n",
    "df4 = pd.DataFrame(data4)\n",
    "df_test = pd.concat([df3, df4], axis = 0)\n",
    "df_test = df_test.sample(frac = 1)\n",
    "df_test.shape"
   ]
  },
  {
   "cell_type": "code",
   "execution_count": 177,
   "metadata": {},
   "outputs": [
    {
     "data": {
      "text/plain": [
       "(1210, 3)"
      ]
     },
     "execution_count": 177,
     "metadata": {},
     "output_type": "execute_result"
    }
   ],
   "source": [
    "data5 = {'image_index':val_p_list,\n",
    "         'class':'pneumonia',\n",
    "         'label': 1}\n",
    "data6 = {'image_index':val_n_list,\n",
    "         'class':'normal',\n",
    "         'label': 0}\n",
    "df5 = pd.DataFrame(data5)\n",
    "df6 = pd.DataFrame(data6)\n",
    "df_val = pd.concat([df5, df6], axis = 0)\n",
    "df_val = df_val.sample(frac = 1)\n",
    "df_val.shape"
   ]
  },
  {
   "cell_type": "code",
   "execution_count": 179,
   "metadata": {},
   "outputs": [],
   "source": [
    "df_train.to_csv('train.csv', index = False)\n",
    "df_val.to_csv('val.csv', index = False)\n",
    "df_test.to_csv('test.csv', index = False)"
   ]
  },
  {
   "cell_type": "markdown",
   "metadata": {},
   "source": [
    "**train: (70% patients)**\n",
    "normal: 1095 images, 781 patients\n",
    "\n",
    "pneumonia: 2949 images, 1172 patients\n",
    "\n",
    "normal image/train image: 0.271\n",
    "\n",
    "**test: (10% patients)**\n",
    "\n",
    "normal: 159 images, 112 patients\n",
    "\n",
    "pneumonia: 443 images, 167 patients\n",
    "\n",
    "normal image/test image: 0.264\n",
    "\n",
    "**validation: (20% patients)**\n",
    "\n",
    "normal: 329 images, 223 patients\n",
    "\n",
    "pneumonia: 881 images, 335 patients\n",
    "\n",
    "normal image/val image: 0.272\n",
    "\n",
    "NO DATA LEAKAGE!"
   ]
  },
  {
   "cell_type": "code",
   "execution_count": null,
   "metadata": {},
   "outputs": [],
   "source": []
  }
 ],
 "metadata": {
  "kernelspec": {
   "display_name": "Python 3",
   "language": "python",
   "name": "python3"
  },
  "language_info": {
   "codemirror_mode": {
    "name": "ipython",
    "version": 3
   },
   "file_extension": ".py",
   "mimetype": "text/x-python",
   "name": "python",
   "nbconvert_exporter": "python",
   "pygments_lexer": "ipython3",
   "version": "3.7.0"
  }
 },
 "nbformat": 4,
 "nbformat_minor": 4
}
