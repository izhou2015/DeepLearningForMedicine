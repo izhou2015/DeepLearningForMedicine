{
 "cells": [
  {
   "cell_type": "code",
   "execution_count": null,
   "metadata": {},
   "outputs": [],
   "source": [
    "import os\n",
    "#read_path = 'D:/NYU-1/DL/data/chest_xray'\n",
    "test_normal = 'D:/NYU-1/DL/project/chest_xray/test/NORMAL'\n",
    "test_pneumonia = 'D:/NYU-1/DL/project/chest_xray/test/PNEUMONIA'\n",
    "\n"
   ]
  },
  {
   "cell_type": "markdown",
   "metadata": {},
   "source": [
    "### test_normal to test_normal and val_normal"
   ]
  },
  {
   "cell_type": "code",
   "execution_count": 7,
   "metadata": {},
   "outputs": [],
   "source": [
    "os.chdir(test_normal) #Change path \n",
    "normal_name_list2 = os.listdir() #Get file name \n",
    "#csv_missing=[]"
   ]
  },
  {
   "cell_type": "code",
   "execution_count": 68,
   "metadata": {},
   "outputs": [
    {
     "name": "stdout",
     "output_type": "stream",
     "text": [
      "numer of images in test_normal: 234\n",
      "number of patients in test_normal: 202\n"
     ]
    }
   ],
   "source": [
    "test_n = []\n",
    "for i in normal_name_list2:\n",
    "    if 'NORMAL2' in i:\n",
    "        i = i[8:]\n",
    "    patient = i[:7]\n",
    "    test_n.append(patient)\n",
    "test_normal_distinct = list(set(test_n))\n",
    "print('numer of images in test_normal:',len(test_n))\n",
    "print('number of patients in test_normal:',len(test_normal_distinct))   #patient number"
   ]
  },
  {
   "cell_type": "code",
   "execution_count": 12,
   "metadata": {},
   "outputs": [
    {
     "name": "stdout",
     "output_type": "stream",
     "text": [
      "['IM-0328', 'IM-0353', 'IM-0015', 'IM-0112', 'IM-0313']\n",
      "['IM-0091', 'IM-0081', 'IM-0075', 'IM-0325', 'IM-0123']\n"
     ]
    }
   ],
   "source": [
    "print(test_normal_distinct[:5])\n",
    "import random\n",
    "random.shuffle(test_normal_distinct)\n",
    "print(test_normal_distinct[:5])"
   ]
  },
  {
   "cell_type": "code",
   "execution_count": 13,
   "metadata": {},
   "outputs": [],
   "source": [
    "val_n_id = test_normal_distinct[:101]\n",
    "test_n_id = test_normal_distinct[101:]"
   ]
  },
  {
   "cell_type": "code",
   "execution_count": 19,
   "metadata": {},
   "outputs": [
    {
     "name": "stdout",
     "output_type": "stream",
     "text": [
      "number of images in test(split) 114\n"
     ]
    }
   ],
   "source": [
    "test_n_list = [] #image name\n",
    "\n",
    "for i in test_n_id:\n",
    "    for j in normal_name_list2:\n",
    "        if i in j:\n",
    "            test_n_list.append(j)\n",
    "    \n",
    "print('number of images in test(split)',len(test_n_list))"
   ]
  },
  {
   "cell_type": "code",
   "execution_count": 20,
   "metadata": {},
   "outputs": [
    {
     "name": "stdout",
     "output_type": "stream",
     "text": [
      "number of images in val(split) 120\n"
     ]
    }
   ],
   "source": [
    "val_n_list = [] #image name\n",
    "\n",
    "for i in val_n_id:\n",
    "    for j in normal_name_list2:\n",
    "        if i in j:\n",
    "            val_n_list.append(j)\n",
    "            \n",
    "print('number of images in val(split)', len(val_n_list))"
   ]
  },
  {
   "cell_type": "markdown",
   "metadata": {},
   "source": [
    "### test_pneumonia to test_pneumonia and val_pneumonia"
   ]
  },
  {
   "cell_type": "code",
   "execution_count": 45,
   "metadata": {},
   "outputs": [],
   "source": [
    "os.chdir(test_pneumonia) #Change path \n",
    "normal_name_list4 = os.listdir() #Get file name \n",
    "#csv_missing=[]"
   ]
  },
  {
   "cell_type": "code",
   "execution_count": 46,
   "metadata": {},
   "outputs": [
    {
     "name": "stdout",
     "output_type": "stream",
     "text": [
      "number of images in test_penumonia: 390\n",
      "number of patients in test_pneumonia: 202\n"
     ]
    }
   ],
   "source": [
    "test_p = []\n",
    "for i in normal_name_list4:\n",
    "    patient = i.split('_')[0]\n",
    "    test_p.append(patient)\n",
    "    #train_normal.append(patient)\n",
    "test_pneumonia_distinct = list(set(test_p))\n",
    "print('number of images in test_penumonia:',len(test_p))\n",
    "print('number of patients in test_pneumonia:',len(test_pneumonia_distinct))"
   ]
  },
  {
   "cell_type": "code",
   "execution_count": 47,
   "metadata": {},
   "outputs": [
    {
     "name": "stdout",
     "output_type": "stream",
     "text": [
      "['person41', 'person1616', 'person101', 'person173', 'person94']\n",
      "['person11', 'person1670', 'person1656', 'person41', 'person71']\n"
     ]
    }
   ],
   "source": [
    "print(test_pneumonia_distinct[:5])\n",
    "random.shuffle(test_pneumonia_distinct)\n",
    "print(test_pneumonia_distinct[:5])"
   ]
  },
  {
   "cell_type": "code",
   "execution_count": 48,
   "metadata": {},
   "outputs": [
    {
     "name": "stdout",
     "output_type": "stream",
     "text": [
      "person1637_\n"
     ]
    }
   ],
   "source": [
    "for i in range(len(test_pneumonia_distinct)):\n",
    "    id_ = test_pneumonia_distinct[i]+'_'\n",
    "    test_pneumonia_distinct[i] = id_\n",
    "print(test_pneumonia_distinct[5])\n",
    "    \n",
    "    "
   ]
  },
  {
   "cell_type": "code",
   "execution_count": 49,
   "metadata": {},
   "outputs": [],
   "source": [
    "test_p_id = test_pneumonia_distinct[:101] #50%\n",
    "val_p_id = test_pneumonia_distinct[101:] "
   ]
  },
  {
   "cell_type": "code",
   "execution_count": 50,
   "metadata": {},
   "outputs": [
    {
     "name": "stdout",
     "output_type": "stream",
     "text": [
      "number of images in test(split) 196\n"
     ]
    }
   ],
   "source": [
    "test_p_list = [] #image name\n",
    "\n",
    "for i in test_p_id:\n",
    "    for j in normal_name_list4:\n",
    "        if i in j:\n",
    "            test_p_list.append(j)\n",
    "            \n",
    "print('number of images in test(split)',len(test_p_list))"
   ]
  },
  {
   "cell_type": "code",
   "execution_count": 72,
   "metadata": {},
   "outputs": [
    {
     "name": "stdout",
     "output_type": "stream",
     "text": [
      "number of images in val(split) 194\n"
     ]
    }
   ],
   "source": [
    "val_p_list = [] #image name\n",
    "\n",
    "for i in val_p_id:\n",
    "    for j in normal_name_list4:\n",
    "        if i in j:\n",
    "            val_p_list.append(j)\n",
    "            \n",
    "print('number of images in val(split)',len(val_p_list))"
   ]
  },
  {
   "cell_type": "markdown",
   "metadata": {},
   "source": [
    "### train"
   ]
  },
  {
   "cell_type": "code",
   "execution_count": 57,
   "metadata": {},
   "outputs": [],
   "source": [
    "train_normal = 'D:/NYU-1/DL/project/chest_xray/train/NORMAL'\n",
    "train_pneumonia = 'D:/NYU-1/DL/project/chest_xray/train/PNEUMONIA'"
   ]
  },
  {
   "cell_type": "code",
   "execution_count": 66,
   "metadata": {},
   "outputs": [],
   "source": [
    "os.chdir(train_normal) #Change path \n",
    "train_n_list = os.listdir() #Get file name \n",
    "#csv_missing=[]\n",
    "#print(len(train_n_split))"
   ]
  },
  {
   "cell_type": "code",
   "execution_count": 71,
   "metadata": {},
   "outputs": [
    {
     "name": "stdout",
     "output_type": "stream",
     "text": [
      "numer of images in train_normal: 1349\n",
      "number of patients in train_normal: 1008\n"
     ]
    }
   ],
   "source": [
    "train_n = []\n",
    "for i in train_n_list:\n",
    "    if 'NORMAL2' in i:\n",
    "        i = i[8:]\n",
    "    patient = i[:7]\n",
    "    train_n.append(patient)\n",
    "train_normal_distinct = list(set(train_n))\n",
    "print('numer of images in train_normal:',len(train_n))\n",
    "print('number of patients in train_normal:',len(train_normal_distinct))   #patient number"
   ]
  },
  {
   "cell_type": "code",
   "execution_count": 67,
   "metadata": {},
   "outputs": [],
   "source": [
    "os.chdir(train_pneumonia) #Change path \n",
    "train_p_list = os.listdir() #Get file name \n",
    "#csv_missing=[]\n",
    "#print(len(train_p_split))"
   ]
  },
  {
   "cell_type": "code",
   "execution_count": 70,
   "metadata": {},
   "outputs": [
    {
     "name": "stdout",
     "output_type": "stream",
     "text": [
      "number of images in train_penumonia: 3886\n",
      "number of patients in train_pneumonia: 1645\n"
     ]
    }
   ],
   "source": [
    "train_p = []\n",
    "for i in train_p_list:\n",
    "    patient = i.split('_')[0]\n",
    "    train_p.append(patient)\n",
    "train_pneumonia_distinct = list(set(train_p))\n",
    "print('number of images in train_penumonia:',len(train_p))\n",
    "print('number of patients in train_pneumonia:',len(train_pneumonia_distinct))"
   ]
  },
  {
   "cell_type": "markdown",
   "metadata": {},
   "source": [
    "### new table: indicating train/val/test "
   ]
  },
  {
   "cell_type": "code",
   "execution_count": 63,
   "metadata": {},
   "outputs": [
    {
     "name": "stdout",
     "output_type": "stream",
     "text": [
      "(5232, 3)\n"
     ]
    },
    {
     "data": {
      "text/html": [
       "<div>\n",
       "<style scoped>\n",
       "    .dataframe tbody tr th:only-of-type {\n",
       "        vertical-align: middle;\n",
       "    }\n",
       "\n",
       "    .dataframe tbody tr th {\n",
       "        vertical-align: top;\n",
       "    }\n",
       "\n",
       "    .dataframe thead th {\n",
       "        text-align: right;\n",
       "    }\n",
       "</style>\n",
       "<table border=\"1\" class=\"dataframe\">\n",
       "  <thead>\n",
       "    <tr style=\"text-align: right;\">\n",
       "      <th></th>\n",
       "      <th>image_index</th>\n",
       "      <th>class</th>\n",
       "      <th>label</th>\n",
       "    </tr>\n",
       "  </thead>\n",
       "  <tbody>\n",
       "    <tr>\n",
       "      <th>329</th>\n",
       "      <td>IM-0517-0001-0001.jpeg</td>\n",
       "      <td>normal</td>\n",
       "      <td>0</td>\n",
       "    </tr>\n",
       "    <tr>\n",
       "      <th>1399</th>\n",
       "      <td>person1666_bacteria_4416.jpeg</td>\n",
       "      <td>pneumonia</td>\n",
       "      <td>1</td>\n",
       "    </tr>\n",
       "    <tr>\n",
       "      <th>1860</th>\n",
       "      <td>person292_bacteria_1378.jpeg</td>\n",
       "      <td>pneumonia</td>\n",
       "      <td>1</td>\n",
       "    </tr>\n",
       "    <tr>\n",
       "      <th>3752</th>\n",
       "      <td>person933_bacteria_2858.jpeg</td>\n",
       "      <td>pneumonia</td>\n",
       "      <td>1</td>\n",
       "    </tr>\n",
       "    <tr>\n",
       "      <th>3481</th>\n",
       "      <td>person764_bacteria_2668.jpeg</td>\n",
       "      <td>pneumonia</td>\n",
       "      <td>1</td>\n",
       "    </tr>\n",
       "  </tbody>\n",
       "</table>\n",
       "</div>"
      ],
      "text/plain": [
       "                        image_index      class  label\n",
       "329          IM-0517-0001-0001.jpeg     normal      0\n",
       "1399  person1666_bacteria_4416.jpeg  pneumonia      1\n",
       "1860   person292_bacteria_1378.jpeg  pneumonia      1\n",
       "3752   person933_bacteria_2858.jpeg  pneumonia      1\n",
       "3481   person764_bacteria_2668.jpeg  pneumonia      1"
      ]
     },
     "execution_count": 63,
     "metadata": {},
     "output_type": "execute_result"
    }
   ],
   "source": [
    "import pandas as pd\n",
    "data1 = {'image_index':train_p_list,\n",
    "         'class':'pneumonia',\n",
    "         'label': 1}\n",
    "data2 = {'image_index':train_n_list,\n",
    "         'class':'normal',\n",
    "         'label': 0}\n",
    "df1 = pd.DataFrame(data1)\n",
    "df2 = pd.DataFrame(data2)\n",
    "df_train = pd.concat([df1, df2], axis = 0)\n",
    "print(df_train.shape)\n",
    "df_train = df_train.sample(frac = 1)\n",
    "df_train.head()\n"
   ]
  },
  {
   "cell_type": "code",
   "execution_count": 52,
   "metadata": {},
   "outputs": [
    {
     "data": {
      "text/plain": [
       "(310, 3)"
      ]
     },
     "execution_count": 52,
     "metadata": {},
     "output_type": "execute_result"
    }
   ],
   "source": [
    "import pandas as pd\n",
    "data3 = {'image_index':test_p_list,\n",
    "         'class':'pneumonia',\n",
    "         'label': 1}\n",
    "data4 = {'image_index':test_n_list,\n",
    "         'class':'normal',\n",
    "         'label': 0}\n",
    "df3 = pd.DataFrame(data3)\n",
    "df4 = pd.DataFrame(data4)\n",
    "df_test = pd.concat([df3, df4], axis = 0)\n",
    "df_test = df_test.sample(frac = 1)\n",
    "df_test.shape"
   ]
  },
  {
   "cell_type": "code",
   "execution_count": 53,
   "metadata": {},
   "outputs": [
    {
     "data": {
      "text/plain": [
       "(314, 3)"
      ]
     },
     "execution_count": 53,
     "metadata": {},
     "output_type": "execute_result"
    }
   ],
   "source": [
    "data5 = {'image_index':val_p_list,\n",
    "         'class':'pneumonia',\n",
    "         'label': 1}\n",
    "data6 = {'image_index':val_n_list,\n",
    "         'class':'normal',\n",
    "         'label': 0}\n",
    "df5 = pd.DataFrame(data5)\n",
    "df6 = pd.DataFrame(data6)\n",
    "df_val = pd.concat([df5, df6], axis = 0)\n",
    "df_val = df_val.sample(frac = 1)\n",
    "df_val.shape"
   ]
  },
  {
   "cell_type": "code",
   "execution_count": 64,
   "metadata": {},
   "outputs": [],
   "source": [
    "df_train.to_csv('train.csv', index = False)\n",
    "df_val.to_csv('val.csv', index = False)\n",
    "df_test.to_csv('test.csv', index = False)"
   ]
  },
  {
   "cell_type": "markdown",
   "metadata": {},
   "source": [
    "**train:**\n",
    "normal: 1349 images, 1008 patients\n",
    "\n",
    "pneumonia: 3886 images, 1645 patients\n",
    "\n",
    "\n",
    "**test:**\n",
    "\n",
    "normal: 114 images, 101 patients\n",
    "\n",
    "pneumonia: 196 images, 101 patients\n",
    "\n",
    "\n",
    "**validation:**\n",
    "\n",
    "normal: 120 images, 101 patients\n",
    "\n",
    "pneumonia: 194 images, 101 patients\n",
    "\n",
    "**test/validation splitting based on patient id**"
   ]
  },
  {
   "cell_type": "code",
   "execution_count": null,
   "metadata": {},
   "outputs": [],
   "source": []
  }
 ],
 "metadata": {
  "kernelspec": {
   "display_name": "Python 3",
   "language": "python",
   "name": "python3"
  },
  "language_info": {
   "codemirror_mode": {
    "name": "ipython",
    "version": 3
   },
   "file_extension": ".py",
   "mimetype": "text/x-python",
   "name": "python",
   "nbconvert_exporter": "python",
   "pygments_lexer": "ipython3",
   "version": "3.7.6"
  }
 },
 "nbformat": 4,
 "nbformat_minor": 4
}
